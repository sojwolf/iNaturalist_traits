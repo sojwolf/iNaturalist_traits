{
 "cells": [
  {
   "cell_type": "markdown",
   "id": "a7b36b54",
   "metadata": {},
   "source": [
    "# Make GeoTiff trait maps  "
   ]
  },
  {
   "cell_type": "markdown",
   "id": "edd9546a",
   "metadata": {},
   "source": [
    "Here we create the trait maps and export them as GeoTiffs.\n",
    "\n",
    "Note: **In this section we will use R because its provides more convinient raster processing pipelines.**"
   ]
  },
  {
   "cell_type": "code",
   "execution_count": null,
   "id": "58d4e7db",
   "metadata": {},
   "outputs": [],
   "source": [
    "library(raster)"
   ]
  },
  {
   "cell_type": "code",
   "execution_count": null,
   "id": "a2f57bd8",
   "metadata": {},
   "outputs": [],
   "source": [
    "#Load sPlot Data\n",
    "sPlot <- read.csv('sPlotOpen/cwm_loc.csv')\n",
    "#Load iNat Data\n",
    "iNat <- read.csv('iNat_TRY_log.csv')"
   ]
  },
  {
   "cell_type": "code",
   "execution_count": null,
   "id": "4d432b83",
   "metadata": {},
   "outputs": [],
   "source": [
    "xy_1 <- cbind(sPlot$Longitude, sPlot$Latitude)\n",
    "xy_2 <- cbind(iNat$decimalLongitude, iNat$decimalLatitude)"
   ]
  },
  {
   "cell_type": "code",
   "execution_count": null,
   "id": "ae497907",
   "metadata": {},
   "outputs": [],
   "source": [
    "# raster for a 2 degree resolution map\n",
    "\n",
    "r <- raster(ncols = 180, nrows = 90)"
   ]
  },
  {
   "cell_type": "code",
   "execution_count": null,
   "id": "fd7264d5",
   "metadata": {},
   "outputs": [],
   "source": [
    "loop.vector <- 5:22 # loop over trait columns in sPlotOpen dataframe\n",
    "\n",
    "for (i in loop.vector) { # Loop over loop.vector\n",
    "  vals_1 <- exp(sPlot[,i])\n",
    "  name1 <- colnames(sPlot[i])\n",
    "  r1 <- rasterize(xy_1, r, vals_1, fun = mean)\n",
    "  r1[is.infinite(r1)] <- NA\n",
    "  crs(r1) <- \"+proj=longlat\"\n",
    "    \n",
    "  vals_2 <- exp(iNat[name1])\n",
    "  r2 <- rasterize(xy_2, r, vals_2, fun = mean)\n",
    "  r2[is.infinite(r2)] <- NA\n",
    "  crs(r2) <- \"+proj=longlat\"\n",
    "\n",
    "  #export as GeoTiff -->  separate file for each trait\n",
    "\n",
    "  filename1 = paste(\"sPlot_\", name1, \"_\", deg, \"deg.tif\", sep=\"\")\n",
    "  writeRaster(r1,filename1, overwrite=TRUE)\n",
    "  filename2 = paste(\"iNat_\", name1, \"_\", deg, \"deg.tif\", sep=\"\")\n",
    "  writeRaster(r2,filename2, overwrite=TRUE)\n",
    "}\n",
    "\n"
   ]
  }
 ],
 "metadata": {
  "kernelspec": {
   "display_name": "Python 3 (ipykernel)",
   "language": "python",
   "name": "python3"
  },
  "language_info": {
   "codemirror_mode": {
    "name": "ipython",
    "version": 3
   },
   "file_extension": ".py",
   "mimetype": "text/x-python",
   "name": "python",
   "nbconvert_exporter": "python",
   "pygments_lexer": "ipython3",
   "version": "3.8.11"
  }
 },
 "nbformat": 4,
 "nbformat_minor": 5
}
