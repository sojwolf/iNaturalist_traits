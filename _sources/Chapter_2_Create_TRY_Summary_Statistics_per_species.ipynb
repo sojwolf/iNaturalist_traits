{
 "cells": [
  {
   "cell_type": "markdown",
   "id": "0b7686b1",
   "metadata": {},
   "source": [
    "# Create TRY summary statistics per species"
   ]
  },
  {
   "cell_type": "markdown",
   "id": "81153684",
   "metadata": {},
   "source": [
    "In this section we download and preprocess the TRY trait data. The TRY database contains trait measurements from individual plants and, typically, multiple individual measurements per trait and species. We want an mean (and stadard deviation) for each trait value per species.\n",
    "\n",
    "This section covers:\n",
    "\n",
    "- Download TRY Data\n",
    "- Load data\n",
    "- Fuzzy Aggregation of species names\n",
    "- Mean trait measurement per species"
   ]
  },
  {
   "cell_type": "markdown",
   "id": "b79488f8",
   "metadata": {},
   "source": [
    "## Packages"
   ]
  },
  {
   "cell_type": "code",
   "execution_count": null,
   "id": "bdac5707",
   "metadata": {},
   "outputs": [],
   "source": [
    "import pandas as pd # dataframes\n",
    "import numpy as np  \n",
    "import os # system interface\n",
    "import matplotlib.pyplot as plt # plotting\n",
    "\n",
    "# fuzzy matching\n",
    "#import rapidfuzz\n",
    "from rapidfuzz import process, fuzz"
   ]
  },
  {
   "cell_type": "markdown",
   "id": "06d82fdf",
   "metadata": {},
   "source": [
    "## Download TRY Data"
   ]
  },
  {
   "cell_type": "markdown",
   "id": "655aa1a9",
   "metadata": {},
   "source": [
    "To download data from the TRY database, create an account at https://www.try-db.org/de.\n",
    "\n",
    "We choose the option of open access data only, but the curators of this database still require you to add a short project description to your download request. You will then be sent a download link via e-mail.\n",
    "\n",
    "For this study we will use continuous (con) traits used in the sPlot analysis from Buehlheide et al. 2018:\n",
    "\n",
    "\n",
    "| Trait     | ID     | Unit    |\n",
    "| :------------- | :----------: | -----------: |\n",
    "| Leaf area (in case of compound leaves: leaflet, undefined if petiole is in- or excluded) | 3113 | mm^2 |\n",
    "| Leaf area per leaf dry mass (specific leaf area, SLA or 1/LMA): undefined if petiole is in- or excluded) | 3117 |m^2/kg|\n",
    "| Stem specific density (SSD) or wood density (stem dry mass per stem fresh volume) | 4 | g/cm^3 |\n",
    "| Leaf carbon (C) content per leaf dry mass | 13 | mg/g |\n",
    "| Leaf nitrogen (N) content per leaf dry mass| 14 | mg/g |\n",
    "| Leaf phosphorus (P) content per leaf dry mass| 15| mg/g |\n",
    "| Plant height vegetative | 3106 | m |\n",
    "| Seed dry mass | 26 | mg |\n",
    "| Seed length | 27 | mm |\n",
    "| Leaf dry mass per leaf fresh mass (leaf dry matter content, LDMC) | 47 | g/g |\n",
    "| Leaf nitrogen (N) content per leaf area | 50   | g/m^2 |\n",
    "| Leaf nitrogen/phosphorus (N/P) ratio | 56 | g/g |\n",
    "| Leaf nitrogen (N) isotope signature (delta 15N) | 78 | ppm |\n",
    "| Seed number per reproducton unit | 138 |  |\n",
    "| Leaf fresh mass | 163 | g\n",
    "| Stem conduit density (vessels and tracheids) | 169 | mm-2 |\n",
    "| Dispersal unit length | 237 | mm |\n",
    "| Wood vessel element length; stem conduit (vessel and tracheids) element length | 282 | μm |\n",
    "\n",
    "\n",
    "\n",
    "\n",
    "When asked which traits you would like to download, type in the following list. This filters TRY data for our traits of interest, listed in the table above.\n",
    "\n",
    "```3113, 3117, 4, 13, 14, 15, 3106, 26, 27, 47, 50, 56, 78, 138, 163, 169, 237, 282```"
   ]
  },
  {
   "cell_type": "markdown",
   "id": "b94e2bfe",
   "metadata": {},
   "source": [
    "## Load TRY data"
   ]
  },
  {
   "cell_type": "markdown",
   "id": "1ee4064d",
   "metadata": {},
   "source": [
    "First, load the TRY data as a data frame, selecting only the following columns:\n",
    "- **AccSpeciesName** - Consolidated species name\n",
    "- **SpeciesName** - Species name\n",
    "- **TraitID** - Unique identifier for traits (only if the record is a trait)\n",
    "- **TraitName** - Name of trait (only if the record is a trait)\n",
    "- **StdValue** - Standardized value: available for standardized traits"
   ]
  },
  {
   "cell_type": "code",
   "execution_count": 3,
   "id": "b8365220",
   "metadata": {},
   "outputs": [
    {
     "name": "stderr",
     "output_type": "stream",
     "text": [
      "/net/home/swolf/.conda/envs/cartopy/lib/python3.8/site-packages/IPython/core/interactiveshell.py:3172: DtypeWarning: Columns (10) have mixed types.Specify dtype option on import or set low_memory=False.\n",
      "  has_raised = await self.run_ast_nodes(code_ast.body, cell_name,\n"
     ]
    },
    {
     "data": {
      "text/html": [
       "<div>\n",
       "<style scoped>\n",
       "    .dataframe tbody tr th:only-of-type {\n",
       "        vertical-align: middle;\n",
       "    }\n",
       "\n",
       "    .dataframe tbody tr th {\n",
       "        vertical-align: top;\n",
       "    }\n",
       "\n",
       "    .dataframe thead th {\n",
       "        text-align: right;\n",
       "    }\n",
       "</style>\n",
       "<table border=\"1\" class=\"dataframe\">\n",
       "  <thead>\n",
       "    <tr style=\"text-align: right;\">\n",
       "      <th></th>\n",
       "      <th>SpeciesName</th>\n",
       "      <th>AccSpeciesName</th>\n",
       "      <th>TraitID</th>\n",
       "      <th>TraitName</th>\n",
       "      <th>StdValue</th>\n",
       "    </tr>\n",
       "  </thead>\n",
       "  <tbody>\n",
       "    <tr>\n",
       "      <th>0</th>\n",
       "      <td>Acer campestre</td>\n",
       "      <td>Acer campestre</td>\n",
       "      <td>NaN</td>\n",
       "      <td>NaN</td>\n",
       "      <td>NaN</td>\n",
       "    </tr>\n",
       "    <tr>\n",
       "      <th>1</th>\n",
       "      <td>Acer campestre</td>\n",
       "      <td>Acer campestre</td>\n",
       "      <td>26.0</td>\n",
       "      <td>Seed dry mass</td>\n",
       "      <td>14.38</td>\n",
       "    </tr>\n",
       "    <tr>\n",
       "      <th>2</th>\n",
       "      <td>Acer platanoides</td>\n",
       "      <td>Acer platanoides</td>\n",
       "      <td>NaN</td>\n",
       "      <td>NaN</td>\n",
       "      <td>NaN</td>\n",
       "    </tr>\n",
       "    <tr>\n",
       "      <th>3</th>\n",
       "      <td>Acer platanoides</td>\n",
       "      <td>Acer platanoides</td>\n",
       "      <td>26.0</td>\n",
       "      <td>Seed dry mass</td>\n",
       "      <td>59.90</td>\n",
       "    </tr>\n",
       "    <tr>\n",
       "      <th>4</th>\n",
       "      <td>Acer pseudoplatanus</td>\n",
       "      <td>Acer pseudoplatanus</td>\n",
       "      <td>NaN</td>\n",
       "      <td>NaN</td>\n",
       "      <td>NaN</td>\n",
       "    </tr>\n",
       "  </tbody>\n",
       "</table>\n",
       "</div>"
      ],
      "text/plain": [
       "           SpeciesName       AccSpeciesName  TraitID      TraitName  StdValue\n",
       "0       Acer campestre       Acer campestre      NaN            NaN       NaN\n",
       "1       Acer campestre       Acer campestre     26.0  Seed dry mass     14.38\n",
       "2     Acer platanoides     Acer platanoides      NaN            NaN       NaN\n",
       "3     Acer platanoides     Acer platanoides     26.0  Seed dry mass     59.90\n",
       "4  Acer pseudoplatanus  Acer pseudoplatanus      NaN            NaN       NaN"
      ]
     },
     "execution_count": 3,
     "metadata": {},
     "output_type": "execute_result"
    }
   ],
   "source": [
    "TRYdata = pd.read_csv(\"TRY/19287.txt\", sep = \"\\t\", encoding=\"iso-8859-1\", \n",
    "                      usecols = [\"AccSpeciesName\", \"SpeciesName\", \"TraitID\", \"TraitName\", \"StdValue\"],\n",
    "                     dtype={'TraitID': float})\n",
    "\n"
   ]
  },
  {
   "cell_type": "code",
   "execution_count": null,
   "id": "7a930af4",
   "metadata": {},
   "outputs": [],
   "source": [
    "TRYdata.head()"
   ]
  },
  {
   "cell_type": "markdown",
   "id": "328bd68d",
   "metadata": {},
   "source": [
    "Each row represents one trait measurements performed on one individual plant. To get an idea of the data, look at the shape of the dataframe. We then remove the observations that do not have measurements for out traits of interest, i.e. the ```trait ID``` is ```NaN```."
   ]
  },
  {
   "cell_type": "code",
   "execution_count": 4,
   "id": "66e77271",
   "metadata": {},
   "outputs": [
    {
     "data": {
      "text/plain": [
       "(16015161, 5)"
      ]
     },
     "execution_count": 4,
     "metadata": {},
     "output_type": "execute_result"
    }
   ],
   "source": [
    "TRYdata.shape"
   ]
  },
  {
   "cell_type": "code",
   "execution_count": 5,
   "id": "9377a95d",
   "metadata": {},
   "outputs": [],
   "source": [
    "TRYdata = TRYdata.dropna(subset=[\"TraitID\"])"
   ]
  },
  {
   "cell_type": "code",
   "execution_count": 6,
   "id": "4275a669",
   "metadata": {},
   "outputs": [
    {
     "data": {
      "text/plain": [
       "18"
      ]
     },
     "execution_count": 6,
     "metadata": {},
     "output_type": "execute_result"
    }
   ],
   "source": [
    "# check number of unique trait names\n",
    "TRYdata[\"TraitID\"].nunique()"
   ]
  },
  {
   "cell_type": "code",
   "execution_count": 7,
   "id": "90e4bfbe",
   "metadata": {},
   "outputs": [
    {
     "data": {
      "text/plain": [
       "54739"
      ]
     },
     "execution_count": 7,
     "metadata": {},
     "output_type": "execute_result"
    }
   ],
   "source": [
    "# number of unique species\n",
    "TRYdata[\"AccSpeciesName\"].nunique()"
   ]
  },
  {
   "cell_type": "code",
   "execution_count": 8,
   "id": "a24c2431",
   "metadata": {},
   "outputs": [
    {
     "data": {
      "image/png": "[encoded data removed]",
      "text/plain": [
       "<Figure size 432x288 with 1 Axes>"
      ]
     },
     "metadata": {
      "needs_background": "light"
     },
     "output_type": "display_data"
    }
   ],
   "source": [
    "# Test histrogramm output for Stem specific density (SSD) as an example:\n",
    "\n",
    "StdValues = TRYdata.loc[TRYdata[\"TraitID\"] == 4, [\"StdValue\"]]\n",
    "plt.hist(StdValues, bins=25);"
   ]
  },
  {
   "cell_type": "markdown",
   "id": "cd6a9db6",
   "metadata": {},
   "source": [
    "## Fuzzy Aggregation of species names"
   ]
  },
  {
   "cell_type": "markdown",
   "id": "37d03585",
   "metadata": {},
   "source": [
    "Are there duplicates in the TRY species names?"
   ]
  },
  {
   "cell_type": "markdown",
   "id": "5aafb44d",
   "metadata": {},
   "source": [
    "We remove author annotation from species names, since the data we want to later merge TRY data with - iNaturalist, observations - only have species names without author annotations. "
   ]
  },
  {
   "cell_type": "code",
   "execution_count": 9,
   "id": "bcb02891",
   "metadata": {},
   "outputs": [],
   "source": [
    "# make all letters lower case\n",
    "TRYdata['AccSpeciesName'] = TRYdata['AccSpeciesName'].str.lower()\n",
    "# capitalize first letter in string\n",
    "TRYdata['AccSpeciesName'] = TRYdata['AccSpeciesName'].str.capitalize()\n",
    "# get only two first words (split at space)\n",
    "TRYdata['AccSpeciesName']  = TRYdata['AccSpeciesName'].apply(lambda x: ' '.join(x.split()[0:2]))\n",
    "# change type to string\n",
    "TRYdata['AccSpeciesName'] = TRYdata['AccSpeciesName'].astype(str)\n",
    "\n",
    "# same for species name\n",
    "TRYdata['SpeciesName'] = TRYdata['SpeciesName'].str.lower()\n",
    "TRYdata['SpeciesName'] = TRYdata['SpeciesName'].str.capitalize()\n",
    "TRYdata['SpeciesName'] = TRYdata['SpeciesName'].astype(str)\n",
    "TRYdata['SpeciesName']  = TRYdata['SpeciesName'].apply(lambda x: ' '.join(x.split()[0:2]))"
   ]
  },
  {
   "cell_type": "markdown",
   "id": "a084ceaa",
   "metadata": {},
   "source": [
    "Unique species:"
   ]
  },
  {
   "cell_type": "code",
   "execution_count": 10,
   "id": "145ba9de",
   "metadata": {},
   "outputs": [],
   "source": [
    "TRY_sp = TRYdata[\"AccSpeciesName\"].apply(str)\n",
    "TRY_sp = TRY_sp.unique()"
   ]
  },
  {
   "cell_type": "code",
   "execution_count": 11,
   "id": "101ce2e4",
   "metadata": {},
   "outputs": [
    {
     "data": {
      "text/plain": [
       "51908"
      ]
     },
     "execution_count": 11,
     "metadata": {},
     "output_type": "execute_result"
    }
   ],
   "source": [
    "len(TRY_sp)"
   ]
  },
  {
   "cell_type": "code",
   "execution_count": 12,
   "id": "e0b1fe67",
   "metadata": {},
   "outputs": [],
   "source": [
    "def fuzzy_match(choices, queries, cutoff):\n",
    "    \n",
    "    score_sort = [(x,) + i\n",
    "             for x in queries\n",
    "             for i in process.extract(x, choices, score_cutoff=cutoff, scorer=fuzz.token_sort_ratio) ]\n",
    "    \n",
    "    similarity_sort = pd.DataFrame(score_sort)\n",
    "    similarity_sort = similarity_sort[similarity_sort[2] != 100.0]\n",
    "    return similarity_sort"
   ]
  },
  {
   "cell_type": "code",
   "execution_count": 13,
   "id": "ee766fb7",
   "metadata": {},
   "outputs": [],
   "source": [
    "TRY_matches = fuzzy_match(TRY_sp, TRY_sp, 95)"
   ]
  },
  {
   "cell_type": "code",
   "execution_count": 14,
   "id": "d0881bb0",
   "metadata": {},
   "outputs": [
    {
     "data": {
      "text/html": [
       "<div>\n",
       "<style scoped>\n",
       "    .dataframe tbody tr th:only-of-type {\n",
       "        vertical-align: middle;\n",
       "    }\n",
       "\n",
       "    .dataframe tbody tr th {\n",
       "        vertical-align: top;\n",
       "    }\n",
       "\n",
       "    .dataframe thead th {\n",
       "        text-align: right;\n",
       "    }\n",
       "</style>\n",
       "<table border=\"1\" class=\"dataframe\">\n",
       "  <thead>\n",
       "    <tr style=\"text-align: right;\">\n",
       "      <th></th>\n",
       "      <th>0</th>\n",
       "      <th>1</th>\n",
       "      <th>2</th>\n",
       "      <th>3</th>\n",
       "    </tr>\n",
       "  </thead>\n",
       "  <tbody>\n",
       "    <tr>\n",
       "      <th>86</th>\n",
       "      <td>Rosmarinus officinalis</td>\n",
       "      <td>Rosmarinus officilis</td>\n",
       "      <td>95.238095</td>\n",
       "      <td>49470</td>\n",
       "    </tr>\n",
       "    <tr>\n",
       "      <th>97</th>\n",
       "      <td>Symphoricarpos albus</td>\n",
       "      <td>Symphoricarpus albus</td>\n",
       "      <td>95.000000</td>\n",
       "      <td>45580</td>\n",
       "    </tr>\n",
       "    <tr>\n",
       "      <th>135</th>\n",
       "      <td>Chionochloa rigida</td>\n",
       "      <td>Chionochloa frigida</td>\n",
       "      <td>97.297297</td>\n",
       "      <td>10863</td>\n",
       "    </tr>\n",
       "    <tr>\n",
       "      <th>172</th>\n",
       "      <td>Andropogon gerardii</td>\n",
       "      <td>Andropogon gerardi</td>\n",
       "      <td>97.297297</td>\n",
       "      <td>9294</td>\n",
       "    </tr>\n",
       "    <tr>\n",
       "      <th>354</th>\n",
       "      <td>Tourouli guianensis</td>\n",
       "      <td>Touroulia guianensis</td>\n",
       "      <td>97.435897</td>\n",
       "      <td>25350</td>\n",
       "    </tr>\n",
       "  </tbody>\n",
       "</table>\n",
       "</div>"
      ],
      "text/plain": [
       "                          0                     1          2      3\n",
       "86   Rosmarinus officinalis  Rosmarinus officilis  95.238095  49470\n",
       "97     Symphoricarpos albus  Symphoricarpus albus  95.000000  45580\n",
       "135      Chionochloa rigida   Chionochloa frigida  97.297297  10863\n",
       "172     Andropogon gerardii    Andropogon gerardi  97.297297   9294\n",
       "354     Tourouli guianensis  Touroulia guianensis  97.435897  25350"
      ]
     },
     "execution_count": 14,
     "metadata": {},
     "output_type": "execute_result"
    }
   ],
   "source": [
    "TRY_matches.head()"
   ]
  },
  {
   "cell_type": "code",
   "execution_count": 15,
   "id": "1f22bfe9",
   "metadata": {},
   "outputs": [
    {
     "data": {
      "text/plain": [
       "516"
      ]
     },
     "execution_count": 15,
     "metadata": {},
     "output_type": "execute_result"
    }
   ],
   "source": [
    "TRY_matches[0].nunique()"
   ]
  },
  {
   "cell_type": "markdown",
   "id": "6e5ffce3",
   "metadata": {},
   "source": [
    "Only 0.5% of unique species in TRY have potential duplicates (similar names). We decided to diregard this slight uncertainty and accepted that these species might not be matched to the iNaturalist observations.\n",
    "\n",
    "We devide the number for matches by 2, since every pair is listed twice (positions switched)."
   ]
  },
  {
   "cell_type": "code",
   "execution_count": 16,
   "id": "641b3b06",
   "metadata": {},
   "outputs": [
    {
     "data": {
      "text/plain": [
       "0.005124450951683748"
      ]
     },
     "execution_count": 16,
     "metadata": {},
     "output_type": "execute_result"
    }
   ],
   "source": [
    "(len(TRY_matches)/2)/len(TRY_sp)"
   ]
  },
  {
   "cell_type": "markdown",
   "id": "a0090706",
   "metadata": {},
   "source": [
    "## Mean trait measurement per species"
   ]
  },
  {
   "cell_type": "markdown",
   "id": "1b01295b",
   "metadata": {},
   "source": [
    "Here we create a dataframe with one species per row with a mean trait value and standard deviations for each trait in the following columns."
   ]
  },
  {
   "cell_type": "markdown",
   "id": "713e4a64",
   "metadata": {},
   "source": [
    "Number of unique species:"
   ]
  },
  {
   "cell_type": "code",
   "execution_count": 17,
   "id": "c870fa4c",
   "metadata": {},
   "outputs": [
    {
     "data": {
      "text/plain": [
       "51908"
      ]
     },
     "execution_count": 17,
     "metadata": {},
     "output_type": "execute_result"
    }
   ],
   "source": [
    "TRYdata['AccSpeciesName'].nunique()"
   ]
  },
  {
   "cell_type": "code",
   "execution_count": 18,
   "id": "618a32cd",
   "metadata": {},
   "outputs": [
    {
     "data": {
      "text/plain": [
       "61181"
      ]
     },
     "execution_count": 18,
     "metadata": {},
     "output_type": "execute_result"
    }
   ],
   "source": [
    "TRYdata['SpeciesName'].nunique()"
   ]
  },
  {
   "cell_type": "markdown",
   "id": "f66a21a2",
   "metadata": {},
   "source": [
    "### Create summary stats with consolidated species name"
   ]
  },
  {
   "cell_type": "markdown",
   "id": "b95cd6be",
   "metadata": {},
   "source": [
    "Use ```groupby``` function to group data by consolidated species name and trait; grouping variables: ```AccSpeciesName, TraitName, TraitID```.\n",
    "\n",
    "More information: https://www.tutorialspoint.com/python_pandas/python_pandas_groupby.htm"
   ]
  },
  {
   "cell_type": "code",
   "execution_count": 19,
   "id": "df686a4e",
   "metadata": {},
   "outputs": [],
   "source": [
    "# group data by species name and trait\n",
    "\n",
    "grouped = TRYdata.groupby(['AccSpeciesName', 'TraitID', 'TraitName'])\n",
    "\n"
   ]
  },
  {
   "cell_type": "markdown",
   "id": "f2424aee",
   "metadata": {},
   "source": [
    "Calculate statistics (mean and standard deviation) using the aggregate function on each group. This returns a data frame with the mean and standard deviation for each species and each trait per row. Reset indeces (species name, trait ID and trait name) as columns in dataframe."
   ]
  },
  {
   "cell_type": "code",
   "execution_count": 20,
   "id": "76f8201f",
   "metadata": {},
   "outputs": [
    {
     "data": {
      "text/html": [
       "<div>\n",
       "<style scoped>\n",
       "    .dataframe tbody tr th:only-of-type {\n",
       "        vertical-align: middle;\n",
       "    }\n",
       "\n",
       "    .dataframe tbody tr th {\n",
       "        vertical-align: top;\n",
       "    }\n",
       "\n",
       "    .dataframe thead th {\n",
       "        text-align: right;\n",
       "    }\n",
       "</style>\n",
       "<table border=\"1\" class=\"dataframe\">\n",
       "  <thead>\n",
       "    <tr style=\"text-align: right;\">\n",
       "      <th></th>\n",
       "      <th>AccSpeciesName</th>\n",
       "      <th>TraitID</th>\n",
       "      <th>TraitName</th>\n",
       "      <th>mean</th>\n",
       "    </tr>\n",
       "  </thead>\n",
       "  <tbody>\n",
       "    <tr>\n",
       "      <th>0</th>\n",
       "      <td>Aa</td>\n",
       "      <td>14.0</td>\n",
       "      <td>Leaf nitrogen (N) content per leaf dry mass</td>\n",
       "      <td>26.400000</td>\n",
       "    </tr>\n",
       "    <tr>\n",
       "      <th>1</th>\n",
       "      <td>Aa</td>\n",
       "      <td>50.0</td>\n",
       "      <td>Leaf nitrogen (N) content per leaf area</td>\n",
       "      <td>2.798400</td>\n",
       "    </tr>\n",
       "    <tr>\n",
       "      <th>2</th>\n",
       "      <td>Aa</td>\n",
       "      <td>3117.0</td>\n",
       "      <td>Leaf area per leaf dry mass (specific leaf are...</td>\n",
       "      <td>9.433962</td>\n",
       "    </tr>\n",
       "    <tr>\n",
       "      <th>3</th>\n",
       "      <td>Aaronsohnia pubescens</td>\n",
       "      <td>3106.0</td>\n",
       "      <td>Plant height vegetative</td>\n",
       "      <td>0.200000</td>\n",
       "    </tr>\n",
       "    <tr>\n",
       "      <th>4</th>\n",
       "      <td>Abacaba (palm)</td>\n",
       "      <td>3106.0</td>\n",
       "      <td>Plant height vegetative</td>\n",
       "      <td>15.000000</td>\n",
       "    </tr>\n",
       "  </tbody>\n",
       "</table>\n",
       "</div>"
      ],
      "text/plain": [
       "          AccSpeciesName  TraitID  \\\n",
       "0                     Aa     14.0   \n",
       "1                     Aa     50.0   \n",
       "2                     Aa   3117.0   \n",
       "3  Aaronsohnia pubescens   3106.0   \n",
       "4         Abacaba (palm)   3106.0   \n",
       "\n",
       "                                           TraitName       mean  \n",
       "0        Leaf nitrogen (N) content per leaf dry mass  26.400000  \n",
       "1            Leaf nitrogen (N) content per leaf area   2.798400  \n",
       "2  Leaf area per leaf dry mass (specific leaf are...   9.433962  \n",
       "3                            Plant height vegetative   0.200000  \n",
       "4                            Plant height vegetative  15.000000  "
      ]
     },
     "execution_count": 20,
     "metadata": {},
     "output_type": "execute_result"
    }
   ],
   "source": [
    "TRYsummary = grouped['StdValue'].agg([np.mean]).reset_index()\n",
    "\n",
    "#check output\n",
    "TRYsummary.head()"
   ]
  },
  {
   "cell_type": "code",
   "execution_count": 21,
   "id": "8b5ff7d1",
   "metadata": {},
   "outputs": [],
   "source": [
    "def shorten_names(df):\n",
    "\n",
    "    df.rename(columns = {'Stem specific density (SSD) or wood density (stem dry mass per stem fresh volume)':'SSD'}, inplace = True)\n",
    "    df.rename(columns = {'Leaf carbon (C) content per leaf dry mass':'Leaf C'}, inplace = True)\n",
    "    df.rename(columns = {'Leaf nitrogen (N) content per leaf dry mass':'Leaf N per mass'}, inplace = True)\n",
    "    df.rename(columns = {'Leaf phosphorus (P) content per leaf dry mass':'Leaf P'}, inplace = True)\n",
    "    df.rename(columns = {'Leaf dry mass per leaf fresh mass (leaf dry matter content, LDMC)':'LDMC'}, inplace = True)\n",
    "    df.rename(columns = {'Seed dry mass':'Seed mass'}, inplace = True)\n",
    "    df.rename(columns = {'Seed length':'Seed length'}, inplace = True)\n",
    "    df.rename(columns = {'Leaf nitrogen (N) content per leaf area':'Leaf N per area'}, inplace = True)\n",
    "    df.rename(columns = {'Leaf nitrogen/phosphorus (N/P) ratio':'Leaf N P ratio'}, inplace = True)\n",
    "    df.rename(columns = {'Leaf nitrogen (N) isotope signature (delta 15N)':'Leaf delta15N'}, inplace = True)\n",
    "    df.rename(columns = {'Leaf fresh mass':'Leaf fresh mass'}, inplace = True)\n",
    "    df.rename(columns = {'Seed number per reproducton unit':'Seeds per rep. unit'}, inplace = True)\n",
    "    df.rename(columns = {'Stem conduit density (vessels and tracheids)':'Stem conduit density'}, inplace = True)\n",
    "    df.rename(columns = {'Dispersal unit length':'Dispersal unit length'}, inplace = True)\n",
    "    df.rename(columns = {'Wood vessel element length; stem conduit (vessel and tracheids) element length':'Conduit element length'}, inplace = True)\n",
    "    df.rename(columns = {'Plant height vegetative':'Plant Height'}, inplace = True)\n",
    "    df.rename(columns = {'Leaf area (in case of compound leaves: leaflet, undefined if petiole is in- or excluded)':'Leaf Area'}, inplace = True)\n",
    "    df.rename(columns = {'Leaf area per leaf dry mass (specific leaf area, SLA or 1/LMA): undefined if petiole is in- or excluded':'SLA'}, inplace = True)\n"
   ]
  },
  {
   "cell_type": "markdown",
   "id": "7c374f5f",
   "metadata": {},
   "source": [
    "Change data frame from long to wide using ```pandas.DataFrame.pivot```. And shorten trait names."
   ]
  },
  {
   "cell_type": "code",
   "execution_count": 22,
   "id": "46988dfa",
   "metadata": {
    "scrolled": true
   },
   "outputs": [
    {
     "data": {
      "text/html": [
       "<div>\n",
       "<style scoped>\n",
       "    .dataframe tbody tr th:only-of-type {\n",
       "        vertical-align: middle;\n",
       "    }\n",
       "\n",
       "    .dataframe tbody tr th {\n",
       "        vertical-align: top;\n",
       "    }\n",
       "\n",
       "    .dataframe thead th {\n",
       "        text-align: right;\n",
       "    }\n",
       "</style>\n",
       "<table border=\"1\" class=\"dataframe\">\n",
       "  <thead>\n",
       "    <tr style=\"text-align: right;\">\n",
       "      <th>TraitName</th>\n",
       "      <th>AccSpeciesName</th>\n",
       "      <th>Dispersal unit length</th>\n",
       "      <th>Leaf Area</th>\n",
       "      <th>SLA</th>\n",
       "      <th>Leaf C</th>\n",
       "      <th>LDMC</th>\n",
       "      <th>Leaf fresh mass</th>\n",
       "      <th>Leaf N per area</th>\n",
       "      <th>Leaf N per mass</th>\n",
       "      <th>Leaf delta15N</th>\n",
       "      <th>Leaf N P ratio</th>\n",
       "      <th>Leaf P</th>\n",
       "      <th>Plant Height</th>\n",
       "      <th>Seed mass</th>\n",
       "      <th>Seed length</th>\n",
       "      <th>Seeds per rep. unit</th>\n",
       "      <th>Stem conduit density</th>\n",
       "      <th>SSD</th>\n",
       "      <th>Conduit element length</th>\n",
       "    </tr>\n",
       "  </thead>\n",
       "  <tbody>\n",
       "    <tr>\n",
       "      <th>0</th>\n",
       "      <td>Aa</td>\n",
       "      <td>NaN</td>\n",
       "      <td>NaN</td>\n",
       "      <td>9.433962</td>\n",
       "      <td>NaN</td>\n",
       "      <td>NaN</td>\n",
       "      <td>NaN</td>\n",
       "      <td>2.7984</td>\n",
       "      <td>26.4</td>\n",
       "      <td>NaN</td>\n",
       "      <td>NaN</td>\n",
       "      <td>NaN</td>\n",
       "      <td>NaN</td>\n",
       "      <td>NaN</td>\n",
       "      <td>NaN</td>\n",
       "      <td>NaN</td>\n",
       "      <td>NaN</td>\n",
       "      <td>NaN</td>\n",
       "      <td>NaN</td>\n",
       "    </tr>\n",
       "    <tr>\n",
       "      <th>1</th>\n",
       "      <td>Aaronsohnia pubescens</td>\n",
       "      <td>NaN</td>\n",
       "      <td>NaN</td>\n",
       "      <td>NaN</td>\n",
       "      <td>NaN</td>\n",
       "      <td>NaN</td>\n",
       "      <td>NaN</td>\n",
       "      <td>NaN</td>\n",
       "      <td>NaN</td>\n",
       "      <td>NaN</td>\n",
       "      <td>NaN</td>\n",
       "      <td>NaN</td>\n",
       "      <td>0.2</td>\n",
       "      <td>NaN</td>\n",
       "      <td>NaN</td>\n",
       "      <td>NaN</td>\n",
       "      <td>NaN</td>\n",
       "      <td>NaN</td>\n",
       "      <td>NaN</td>\n",
       "    </tr>\n",
       "    <tr>\n",
       "      <th>2</th>\n",
       "      <td>Abacaba (palm)</td>\n",
       "      <td>NaN</td>\n",
       "      <td>NaN</td>\n",
       "      <td>NaN</td>\n",
       "      <td>NaN</td>\n",
       "      <td>NaN</td>\n",
       "      <td>NaN</td>\n",
       "      <td>NaN</td>\n",
       "      <td>NaN</td>\n",
       "      <td>NaN</td>\n",
       "      <td>NaN</td>\n",
       "      <td>NaN</td>\n",
       "      <td>15.0</td>\n",
       "      <td>NaN</td>\n",
       "      <td>NaN</td>\n",
       "      <td>NaN</td>\n",
       "      <td>NaN</td>\n",
       "      <td>NaN</td>\n",
       "      <td>NaN</td>\n",
       "    </tr>\n",
       "  </tbody>\n",
       "</table>\n",
       "</div>"
      ],
      "text/plain": [
       "TraitName         AccSpeciesName  Dispersal unit length  Leaf Area       SLA  \\\n",
       "0                             Aa                    NaN        NaN  9.433962   \n",
       "1          Aaronsohnia pubescens                    NaN        NaN       NaN   \n",
       "2                 Abacaba (palm)                    NaN        NaN       NaN   \n",
       "\n",
       "TraitName  Leaf C  LDMC  Leaf fresh mass  Leaf N per area  Leaf N per mass  \\\n",
       "0             NaN   NaN              NaN           2.7984             26.4   \n",
       "1             NaN   NaN              NaN              NaN              NaN   \n",
       "2             NaN   NaN              NaN              NaN              NaN   \n",
       "\n",
       "TraitName  Leaf delta15N  Leaf N P ratio  Leaf P  Plant Height  Seed mass  \\\n",
       "0                    NaN             NaN     NaN           NaN        NaN   \n",
       "1                    NaN             NaN     NaN           0.2        NaN   \n",
       "2                    NaN             NaN     NaN          15.0        NaN   \n",
       "\n",
       "TraitName  Seed length  Seeds per rep. unit  Stem conduit density  SSD  \\\n",
       "0                  NaN                  NaN                   NaN  NaN   \n",
       "1                  NaN                  NaN                   NaN  NaN   \n",
       "2                  NaN                  NaN                   NaN  NaN   \n",
       "\n",
       "TraitName  Conduit element length  \n",
       "0                             NaN  \n",
       "1                             NaN  \n",
       "2                             NaN  "
      ]
     },
     "execution_count": 22,
     "metadata": {},
     "output_type": "execute_result"
    }
   ],
   "source": [
    "TRYsummary_t = TRYsummary.pivot(index=[\"AccSpeciesName\"], columns=\"TraitName\", values=\"mean\")\n",
    "\n",
    "# reset indeces (species name) as columns in data frame\n",
    "TRYsummary_t.reset_index(inplace=True)\n",
    "\n",
    "shorten_names(TRYsummary_t)\n",
    "\n",
    "TRYsummary_t.head(3)"
   ]
  },
  {
   "cell_type": "markdown",
   "id": "f5294c0b",
   "metadata": {},
   "source": [
    "Because some species have a different SpeciesName and AccSpeciesName, we have more rows than unique species. We will keep all for now, so we can match the names."
   ]
  },
  {
   "cell_type": "code",
   "execution_count": 23,
   "id": "7dd860df",
   "metadata": {},
   "outputs": [
    {
     "data": {
      "text/plain": [
       "(51908, 19)"
      ]
     },
     "execution_count": 23,
     "metadata": {},
     "output_type": "execute_result"
    }
   ],
   "source": [
    "TRYsummary_t.shape"
   ]
  },
  {
   "cell_type": "code",
   "execution_count": 24,
   "id": "2c336eca",
   "metadata": {},
   "outputs": [],
   "source": [
    "TRYsummary_t.to_csv(\"TRY/TRY_summary_stats.csv\", index=False)"
   ]
  },
  {
   "cell_type": "markdown",
   "id": "5f15458b",
   "metadata": {},
   "source": [
    "### Create summary stats with original name"
   ]
  },
  {
   "cell_type": "code",
   "execution_count": 25,
   "id": "9b725083",
   "metadata": {},
   "outputs": [
    {
     "data": {
      "text/html": [
       "<div>\n",
       "<style scoped>\n",
       "    .dataframe tbody tr th:only-of-type {\n",
       "        vertical-align: middle;\n",
       "    }\n",
       "\n",
       "    .dataframe tbody tr th {\n",
       "        vertical-align: top;\n",
       "    }\n",
       "\n",
       "    .dataframe thead th {\n",
       "        text-align: right;\n",
       "    }\n",
       "</style>\n",
       "<table border=\"1\" class=\"dataframe\">\n",
       "  <thead>\n",
       "    <tr style=\"text-align: right;\">\n",
       "      <th>TraitName</th>\n",
       "      <th>SpeciesName</th>\n",
       "      <th>Dispersal unit length</th>\n",
       "      <th>Leaf Area</th>\n",
       "      <th>SLA</th>\n",
       "      <th>Leaf C</th>\n",
       "      <th>LDMC</th>\n",
       "      <th>Leaf fresh mass</th>\n",
       "      <th>Leaf N per area</th>\n",
       "      <th>Leaf N per mass</th>\n",
       "      <th>Leaf delta15N</th>\n",
       "      <th>Leaf N P ratio</th>\n",
       "      <th>Leaf P</th>\n",
       "      <th>Plant Height</th>\n",
       "      <th>Seed mass</th>\n",
       "      <th>Seed length</th>\n",
       "      <th>Seeds per rep. unit</th>\n",
       "      <th>Stem conduit density</th>\n",
       "      <th>SSD</th>\n",
       "      <th>Conduit element length</th>\n",
       "    </tr>\n",
       "  </thead>\n",
       "  <tbody>\n",
       "    <tr>\n",
       "      <th>0</th>\n",
       "      <td>(fabaceae)</td>\n",
       "      <td>NaN</td>\n",
       "      <td>NaN</td>\n",
       "      <td>21.3385</td>\n",
       "      <td>NaN</td>\n",
       "      <td>NaN</td>\n",
       "      <td>NaN</td>\n",
       "      <td>1.578157</td>\n",
       "      <td>33.150000</td>\n",
       "      <td>NaN</td>\n",
       "      <td>NaN</td>\n",
       "      <td>NaN</td>\n",
       "      <td>NaN</td>\n",
       "      <td>NaN</td>\n",
       "      <td>NaN</td>\n",
       "      <td>NaN</td>\n",
       "      <td>NaN</td>\n",
       "      <td>NaN</td>\n",
       "      <td>NaN</td>\n",
       "    </tr>\n",
       "    <tr>\n",
       "      <th>1</th>\n",
       "      <td>(fabaceae) 20-25oblong</td>\n",
       "      <td>NaN</td>\n",
       "      <td>NaN</td>\n",
       "      <td>NaN</td>\n",
       "      <td>NaN</td>\n",
       "      <td>NaN</td>\n",
       "      <td>NaN</td>\n",
       "      <td>1.761453</td>\n",
       "      <td>32.513864</td>\n",
       "      <td>NaN</td>\n",
       "      <td>NaN</td>\n",
       "      <td>NaN</td>\n",
       "      <td>NaN</td>\n",
       "      <td>NaN</td>\n",
       "      <td>NaN</td>\n",
       "      <td>NaN</td>\n",
       "      <td>NaN</td>\n",
       "      <td>NaN</td>\n",
       "      <td>NaN</td>\n",
       "    </tr>\n",
       "    <tr>\n",
       "      <th>2</th>\n",
       "      <td>(fabaceae) brillafuzzy</td>\n",
       "      <td>NaN</td>\n",
       "      <td>NaN</td>\n",
       "      <td>NaN</td>\n",
       "      <td>NaN</td>\n",
       "      <td>NaN</td>\n",
       "      <td>NaN</td>\n",
       "      <td>1.397197</td>\n",
       "      <td>33.837593</td>\n",
       "      <td>NaN</td>\n",
       "      <td>NaN</td>\n",
       "      <td>NaN</td>\n",
       "      <td>NaN</td>\n",
       "      <td>NaN</td>\n",
       "      <td>NaN</td>\n",
       "      <td>NaN</td>\n",
       "      <td>NaN</td>\n",
       "      <td>NaN</td>\n",
       "      <td>NaN</td>\n",
       "    </tr>\n",
       "  </tbody>\n",
       "</table>\n",
       "</div>"
      ],
      "text/plain": [
       "TraitName             SpeciesName  Dispersal unit length  Leaf Area      SLA  \\\n",
       "0                      (fabaceae)                    NaN        NaN  21.3385   \n",
       "1          (fabaceae) 20-25oblong                    NaN        NaN      NaN   \n",
       "2          (fabaceae) brillafuzzy                    NaN        NaN      NaN   \n",
       "\n",
       "TraitName  Leaf C  LDMC  Leaf fresh mass  Leaf N per area  Leaf N per mass  \\\n",
       "0             NaN   NaN              NaN         1.578157        33.150000   \n",
       "1             NaN   NaN              NaN         1.761453        32.513864   \n",
       "2             NaN   NaN              NaN         1.397197        33.837593   \n",
       "\n",
       "TraitName  Leaf delta15N  Leaf N P ratio  Leaf P  Plant Height  Seed mass  \\\n",
       "0                    NaN             NaN     NaN           NaN        NaN   \n",
       "1                    NaN             NaN     NaN           NaN        NaN   \n",
       "2                    NaN             NaN     NaN           NaN        NaN   \n",
       "\n",
       "TraitName  Seed length  Seeds per rep. unit  Stem conduit density  SSD  \\\n",
       "0                  NaN                  NaN                   NaN  NaN   \n",
       "1                  NaN                  NaN                   NaN  NaN   \n",
       "2                  NaN                  NaN                   NaN  NaN   \n",
       "\n",
       "TraitName  Conduit element length  \n",
       "0                             NaN  \n",
       "1                             NaN  \n",
       "2                             NaN  "
      ]
     },
     "execution_count": 25,
     "metadata": {},
     "output_type": "execute_result"
    }
   ],
   "source": [
    "# group data by species name and trait, same analysis as above\n",
    "grouped_syn = TRYdata.groupby(['SpeciesName', 'TraitID', 'TraitName'])\n",
    "\n",
    "TRYsummary_syn = grouped_syn['StdValue'].agg([np.mean]).reset_index()\n",
    "\n",
    "# change df shape\n",
    "TRYsummary_t_syn = TRYsummary_syn.pivot(index=[\"SpeciesName\"], columns=\"TraitName\", values=\"mean\")\n",
    "\n",
    "# reset indeces (species name) as columns in data frame\n",
    "TRYsummary_t_syn.reset_index(inplace=True)\n",
    "\n",
    "# shorten column names\n",
    "shorten_names(TRYsummary_t_syn)\n",
    "\n",
    "TRYsummary_t_syn.head(3)"
   ]
  },
  {
   "cell_type": "markdown",
   "id": "090de762",
   "metadata": {},
   "source": [
    "Save this dataframe as ```csv```."
   ]
  },
  {
   "cell_type": "code",
   "execution_count": 26,
   "id": "af9d28dd",
   "metadata": {},
   "outputs": [],
   "source": [
    "TRYsummary_t_syn.to_csv(\"TRY/TRY_summary_stats_syn.csv\", index=False)"
   ]
  }
 ],
 "metadata": {
  "kernelspec": {
   "display_name": "Python 3 (ipykernel)",
   "language": "python",
   "name": "python3"
  },
  "language_info": {
   "codemirror_mode": {
    "name": "ipython",
    "version": 3
   },
   "file_extension": ".py",
   "mimetype": "text/x-python",
   "name": "python",
   "nbconvert_exporter": "python",
   "pygments_lexer": "ipython3",
   "version": "3.8.11"
  }
 },
 "nbformat": 4,
 "nbformat_minor": 5
}
