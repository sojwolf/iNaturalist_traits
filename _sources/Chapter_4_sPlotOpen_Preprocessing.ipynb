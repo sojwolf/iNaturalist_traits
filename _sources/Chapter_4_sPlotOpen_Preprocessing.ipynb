{
 "cells": [
  {
   "cell_type": "markdown",
   "id": "638df9a2",
   "metadata": {},
   "source": [
    "# sPlotOpen Preprocessing\n"
   ]
  },
  {
   "cell_type": "markdown",
   "id": "d15d079d",
   "metadata": {},
   "source": [
    "sPlotOpen (Sabatini et al, 2021) is an open-access and environmentally and spatially balanced subset of the global sPlot vegetation plots data set v2.1 (Bruelheide et al, 2019).\n",
    "\n",
    "This section covers:\n",
    "\n",
    "- Link plot coordinates with community wighted means (cwm)\n",
    "- Visualize plot density"
   ]
  },
  {
   "cell_type": "markdown",
   "id": "e8581c38",
   "metadata": {},
   "source": [
    "## Download"
   ]
  },
  {
   "cell_type": "markdown",
   "id": "72f1187e",
   "metadata": {},
   "source": [
    "sPlotOpen Data is available at the *iDiv Data Repository*. For this study we used version 52.\n",
    "\n",
    "https://idata.idiv.de/ddm/Data/ShowData/3474\n",
    "\n"
   ]
  },
  {
   "cell_type": "markdown",
   "id": "18e4aba2",
   "metadata": {},
   "source": [
    "## Packages"
   ]
  },
  {
   "cell_type": "code",
   "execution_count": null,
   "id": "73975506",
   "metadata": {},
   "outputs": [],
   "source": [
    "import pandas as pd\n",
    "import numpy as np\n",
    "import os\n",
    "import matplotlib.pyplot as plt\n",
    "import seaborn as sns\n",
    "from matplotlib.colors import LogNorm, Normalize\n",
    "import cartopy.crs as ccrs\n",
    "import cartopy as cart\n",
    "from matplotlib.colors import BoundaryNorm\n",
    "from matplotlib.ticker import MaxNLocator\n",
    "from mpl_toolkits.axes_grid1 import make_axes_locatable"
   ]
  },
  {
   "cell_type": "markdown",
   "id": "b4e70409",
   "metadata": {},
   "source": [
    "## Link plot coordinates to cmw data"
   ]
  },
  {
   "cell_type": "markdown",
   "id": "5557c6b1",
   "metadata": {},
   "source": [
    "The data is stored in various tab-separated files:\n",
    "\n",
    "- **sPlotOpen_header(2).txt** : contains information on each plot, such as coordinates, date, biome, country, etc.\n",
    "\n",
    "\n",
    "- **sPlotOpen_DT(1).txt** : contains information per plot and species with abundance and relative cover\n",
    "\n",
    "\n",
    "- **sPlotOpen_CWM_CWV(1).txt** : contains information on trait community weighted means and variances for each plot and 18 traits (ln-transformed)\n"
   ]
  },
  {
   "cell_type": "code",
   "execution_count": 5,
   "id": "f78f0c93",
   "metadata": {},
   "outputs": [],
   "source": [
    "# load the community weighted means\n",
    "\n",
    "cwm = pd.read_csv(\"./sPlotOpen/sPlotOpen_CWM_CWV(1).txt\", sep= \"\\t\")"
   ]
  },
  {
   "cell_type": "code",
   "execution_count": 6,
   "id": "5846917d",
   "metadata": {},
   "outputs": [
    {
     "name": "stderr",
     "output_type": "stream",
     "text": [
      "/net/home/swolf/.conda/envs/cartopy/lib/python3.8/site-packages/IPython/core/interactiveshell.py:3172: DtypeWarning: Columns (16) have mixed types.Specify dtype option on import or set low_memory=False.\n",
      "  has_raised = await self.run_ast_nodes(code_ast.body, cell_name,\n"
     ]
    }
   ],
   "source": [
    "plots = pd.read_csv(\"./sPlotOpen/sPlotOpen_header(2).txt\", sep= \"\\t\")"
   ]
  },
  {
   "cell_type": "code",
   "execution_count": 7,
   "id": "edaf606d",
   "metadata": {},
   "outputs": [],
   "source": [
    "sPlot = pd.merge(cwm, plots, on='PlotObservationID', how='inner')"
   ]
  },
  {
   "cell_type": "code",
   "execution_count": 8,
   "id": "20d2145a",
   "metadata": {},
   "outputs": [
    {
     "data": {
      "text/html": [
       "<div>\n",
       "<style scoped>\n",
       "    .dataframe tbody tr th:only-of-type {\n",
       "        vertical-align: middle;\n",
       "    }\n",
       "\n",
       "    .dataframe tbody tr th {\n",
       "        vertical-align: top;\n",
       "    }\n",
       "\n",
       "    .dataframe thead th {\n",
       "        text-align: right;\n",
       "    }\n",
       "</style>\n",
       "<table border=\"1\" class=\"dataframe\">\n",
       "  <thead>\n",
       "    <tr style=\"text-align: right;\">\n",
       "      <th></th>\n",
       "      <th>PlotObservationID</th>\n",
       "      <th>TraitCoverage_cover</th>\n",
       "      <th>Species_richness</th>\n",
       "      <th>TraitCoverage_pa</th>\n",
       "      <th>LeafArea_CWM</th>\n",
       "      <th>StemDens_CWM</th>\n",
       "      <th>SLA_CWM</th>\n",
       "      <th>LeafC_perdrymass_CWM</th>\n",
       "      <th>LeafN_CWM</th>\n",
       "      <th>LeafP_CWM</th>\n",
       "      <th>...</th>\n",
       "      <th>Height_shrubs_lowest</th>\n",
       "      <th>Height_herbs_average</th>\n",
       "      <th>Height_herbs_lowest</th>\n",
       "      <th>Height_herbs_highest</th>\n",
       "      <th>SoilClim_PC1</th>\n",
       "      <th>SoilClim_PC2</th>\n",
       "      <th>Resample_1</th>\n",
       "      <th>Resample_2</th>\n",
       "      <th>Resample_3</th>\n",
       "      <th>Resample_1_consensus</th>\n",
       "    </tr>\n",
       "  </thead>\n",
       "  <tbody>\n",
       "    <tr>\n",
       "      <th>0</th>\n",
       "      <td>16</td>\n",
       "      <td>0.277778</td>\n",
       "      <td>3</td>\n",
       "      <td>0.333333</td>\n",
       "      <td>3.678311</td>\n",
       "      <td>-1.047293</td>\n",
       "      <td>2.890748</td>\n",
       "      <td>6.128157</td>\n",
       "      <td>2.873263</td>\n",
       "      <td>1.114036</td>\n",
       "      <td>...</td>\n",
       "      <td>NaN</td>\n",
       "      <td>NaN</td>\n",
       "      <td>NaN</td>\n",
       "      <td>NaN</td>\n",
       "      <td>-3.66</td>\n",
       "      <td>0.546</td>\n",
       "      <td>True</td>\n",
       "      <td>False</td>\n",
       "      <td>False</td>\n",
       "      <td>True</td>\n",
       "    </tr>\n",
       "    <tr>\n",
       "      <th>1</th>\n",
       "      <td>17</td>\n",
       "      <td>0.038462</td>\n",
       "      <td>2</td>\n",
       "      <td>0.500000</td>\n",
       "      <td>3.678311</td>\n",
       "      <td>-1.047293</td>\n",
       "      <td>2.890748</td>\n",
       "      <td>6.128157</td>\n",
       "      <td>2.873263</td>\n",
       "      <td>1.114036</td>\n",
       "      <td>...</td>\n",
       "      <td>NaN</td>\n",
       "      <td>NaN</td>\n",
       "      <td>NaN</td>\n",
       "      <td>NaN</td>\n",
       "      <td>-3.66</td>\n",
       "      <td>0.546</td>\n",
       "      <td>True</td>\n",
       "      <td>False</td>\n",
       "      <td>False</td>\n",
       "      <td>True</td>\n",
       "    </tr>\n",
       "    <tr>\n",
       "      <th>2</th>\n",
       "      <td>18</td>\n",
       "      <td>0.047619</td>\n",
       "      <td>4</td>\n",
       "      <td>0.250000</td>\n",
       "      <td>3.678311</td>\n",
       "      <td>-1.047293</td>\n",
       "      <td>2.890748</td>\n",
       "      <td>6.128157</td>\n",
       "      <td>2.873263</td>\n",
       "      <td>1.114036</td>\n",
       "      <td>...</td>\n",
       "      <td>NaN</td>\n",
       "      <td>NaN</td>\n",
       "      <td>NaN</td>\n",
       "      <td>NaN</td>\n",
       "      <td>-3.66</td>\n",
       "      <td>0.546</td>\n",
       "      <td>False</td>\n",
       "      <td>False</td>\n",
       "      <td>True</td>\n",
       "      <td>False</td>\n",
       "    </tr>\n",
       "    <tr>\n",
       "      <th>3</th>\n",
       "      <td>20</td>\n",
       "      <td>0.666667</td>\n",
       "      <td>3</td>\n",
       "      <td>0.333333</td>\n",
       "      <td>3.686063</td>\n",
       "      <td>-0.907135</td>\n",
       "      <td>2.903715</td>\n",
       "      <td>6.136791</td>\n",
       "      <td>2.929729</td>\n",
       "      <td>0.739181</td>\n",
       "      <td>...</td>\n",
       "      <td>NaN</td>\n",
       "      <td>NaN</td>\n",
       "      <td>NaN</td>\n",
       "      <td>NaN</td>\n",
       "      <td>-3.66</td>\n",
       "      <td>0.546</td>\n",
       "      <td>False</td>\n",
       "      <td>True</td>\n",
       "      <td>False</td>\n",
       "      <td>False</td>\n",
       "    </tr>\n",
       "    <tr>\n",
       "      <th>4</th>\n",
       "      <td>22</td>\n",
       "      <td>0.538462</td>\n",
       "      <td>7</td>\n",
       "      <td>0.571429</td>\n",
       "      <td>3.899842</td>\n",
       "      <td>-0.900514</td>\n",
       "      <td>2.917708</td>\n",
       "      <td>6.131968</td>\n",
       "      <td>2.955072</td>\n",
       "      <td>0.733698</td>\n",
       "      <td>...</td>\n",
       "      <td>NaN</td>\n",
       "      <td>NaN</td>\n",
       "      <td>NaN</td>\n",
       "      <td>NaN</td>\n",
       "      <td>-3.66</td>\n",
       "      <td>0.546</td>\n",
       "      <td>True</td>\n",
       "      <td>False</td>\n",
       "      <td>False</td>\n",
       "      <td>True</td>\n",
       "    </tr>\n",
       "  </tbody>\n",
       "</table>\n",
       "<p>5 rows × 86 columns</p>\n",
       "</div>"
      ],
      "text/plain": [
       "   PlotObservationID  TraitCoverage_cover  Species_richness  TraitCoverage_pa  \\\n",
       "0                 16             0.277778                 3          0.333333   \n",
       "1                 17             0.038462                 2          0.500000   \n",
       "2                 18             0.047619                 4          0.250000   \n",
       "3                 20             0.666667                 3          0.333333   \n",
       "4                 22             0.538462                 7          0.571429   \n",
       "\n",
       "   LeafArea_CWM  StemDens_CWM   SLA_CWM  LeafC_perdrymass_CWM  LeafN_CWM  \\\n",
       "0      3.678311     -1.047293  2.890748              6.128157   2.873263   \n",
       "1      3.678311     -1.047293  2.890748              6.128157   2.873263   \n",
       "2      3.678311     -1.047293  2.890748              6.128157   2.873263   \n",
       "3      3.686063     -0.907135  2.903715              6.136791   2.929729   \n",
       "4      3.899842     -0.900514  2.917708              6.131968   2.955072   \n",
       "\n",
       "   LeafP_CWM  ...  Height_shrubs_lowest  Height_herbs_average  \\\n",
       "0   1.114036  ...                   NaN                   NaN   \n",
       "1   1.114036  ...                   NaN                   NaN   \n",
       "2   1.114036  ...                   NaN                   NaN   \n",
       "3   0.739181  ...                   NaN                   NaN   \n",
       "4   0.733698  ...                   NaN                   NaN   \n",
       "\n",
       "   Height_herbs_lowest  Height_herbs_highest  SoilClim_PC1  SoilClim_PC2  \\\n",
       "0                  NaN                   NaN         -3.66         0.546   \n",
       "1                  NaN                   NaN         -3.66         0.546   \n",
       "2                  NaN                   NaN         -3.66         0.546   \n",
       "3                  NaN                   NaN         -3.66         0.546   \n",
       "4                  NaN                   NaN         -3.66         0.546   \n",
       "\n",
       "   Resample_1  Resample_2  Resample_3  Resample_1_consensus  \n",
       "0        True       False       False                  True  \n",
       "1        True       False       False                  True  \n",
       "2       False       False        True                 False  \n",
       "3       False        True       False                 False  \n",
       "4        True       False       False                  True  \n",
       "\n",
       "[5 rows x 86 columns]"
      ]
     },
     "execution_count": 8,
     "metadata": {},
     "output_type": "execute_result"
    }
   ],
   "source": [
    "sPlot.head()"
   ]
  },
  {
   "cell_type": "markdown",
   "id": "9806650b",
   "metadata": {},
   "source": [
    "### Change columns name"
   ]
  },
  {
   "cell_type": "code",
   "execution_count": 9,
   "id": "24de0165",
   "metadata": {},
   "outputs": [
    {
     "data": {
      "text/plain": [
       "Index(['PlotObservationID', 'TraitCoverage_cover', 'Species_richness',\n",
       "       'TraitCoverage_pa', 'LeafArea_CWM', 'StemDens_CWM', 'SLA_CWM',\n",
       "       'LeafC_perdrymass_CWM', 'LeafN_CWM', 'LeafP_CWM', 'PlantHeight_CWM',\n",
       "       'SeedMass_CWM', 'Seed_length_CWM', 'LDMC_CWM', 'LeafNperArea_CWM',\n",
       "       'LeafNPratio_CWM', 'Leaf_delta_15N_CWM', 'Seed_num_rep_unit_CWM',\n",
       "       'Leaffreshmass_CWM', 'Stem_cond_dens_CWM', 'Disp_unit_leng_CWM',\n",
       "       'Wood_vessel_length_CWM', 'LeafArea_CWV', 'StemDens_CWV', 'SLA_CWV',\n",
       "       'LeafC_perdrymass_CWV', 'LeafN_CWV', 'LeafP_CWV', 'PlantHeight_CWV',\n",
       "       'SeedMass_CWV', 'Seed_length_CWV', 'LDMC_CWV', 'LeafNperArea_CWV',\n",
       "       'LeafNPratio_CWV', 'Leaf_delta_15N_CWV', 'Seed_num_rep_unit_CWV',\n",
       "       'Leaffreshmass_CWV', 'Stem_cond_dens_CWV', 'Disp_unit_leng_CWV',\n",
       "       'Wood_vessel_length_CWV', 'GIVD_ID', 'Dataset', 'Continent', 'Country',\n",
       "       'Biome', 'Date_of_recording', 'Latitude', 'Longitude',\n",
       "       'Location_uncertainty', 'Releve_area', 'Plant_recorded', 'Elevation',\n",
       "       'Aspect', 'Slope', 'is_forest', 'ESY', 'Naturalness', 'Forest',\n",
       "       'Shrubland', 'Grassland', 'Wetland', 'Sparse_vegetation', 'Cover_total',\n",
       "       'Cover_tree_layer', 'Cover_shrub_layer', 'Cover_herb_layer',\n",
       "       'Cover_moss_layer', 'Cover_lichen_layer', 'Cover_algae_layer',\n",
       "       'Cover_litter_layer', 'Cover_bare_rocks', 'Cover_cryptogams',\n",
       "       'Cover_bare_soil', 'Height_trees_highest', 'Height_trees_lowest',\n",
       "       'Height_shrubs_highest', 'Height_shrubs_lowest', 'Height_herbs_average',\n",
       "       'Height_herbs_lowest', 'Height_herbs_highest', 'SoilClim_PC1',\n",
       "       'SoilClim_PC2', 'Resample_1', 'Resample_2', 'Resample_3',\n",
       "       'Resample_1_consensus'],\n",
       "      dtype='object')"
      ]
     },
     "execution_count": 9,
     "metadata": {},
     "output_type": "execute_result"
    }
   ],
   "source": [
    "sPlot.columns"
   ]
  },
  {
   "cell_type": "code",
   "execution_count": 10,
   "id": "4b9d1500",
   "metadata": {},
   "outputs": [
    {
     "data": {
      "text/plain": [
       "Date_of_recording     {<class 'str'>, <class 'float'>}\n",
       "is_forest            {<class 'float'>, <class 'bool'>}\n",
       "ESY                   {<class 'str'>, <class 'float'>}\n",
       "Naturalness           {<class 'str'>, <class 'float'>}\n",
       "Forest               {<class 'float'>, <class 'bool'>}\n",
       "Shrubland            {<class 'float'>, <class 'bool'>}\n",
       "Grassland            {<class 'float'>, <class 'bool'>}\n",
       "Wetland              {<class 'float'>, <class 'bool'>}\n",
       "Sparse_vegetation    {<class 'float'>, <class 'bool'>}\n",
       "dtype: object"
      ]
     },
     "execution_count": 10,
     "metadata": {},
     "output_type": "execute_result"
    }
   ],
   "source": [
    "# only variables not of interest have mixed data types\n",
    "types = sPlot.applymap(type).apply(set)\n",
    "types[types.apply(len) > 1]"
   ]
  },
  {
   "cell_type": "markdown",
   "id": "c0127c1e",
   "metadata": {},
   "source": [
    "Rename the trait columns to match the TRY summary stats:"
   ]
  },
  {
   "cell_type": "code",
   "execution_count": 11,
   "id": "e4e6d1df",
   "metadata": {},
   "outputs": [],
   "source": [
    "sPlot.rename(columns = {'StemDens_CWM':'SSD'}, inplace = True)\n",
    "sPlot.rename(columns = {'LeafC_perdrymass_CWM':'Leaf C'}, inplace = True)\n",
    "sPlot.rename(columns = {'LeafN_CWM':'Leaf N per mass'}, inplace = True)\n",
    "sPlot.rename(columns = {'LeafP_CWM':'Leaf P'}, inplace = True)\n",
    "sPlot.rename(columns = {'LDMC_CWM':'LDMC'}, inplace = True)\n",
    "sPlot.rename(columns = {'SeedMass_CWM':'Seed mass'}, inplace = True)\n",
    "sPlot.rename(columns = {'Seed_length_CWM':'Seed length'}, inplace = True)\n",
    "sPlot.rename(columns = {'LeafNperArea_CWM':'Leaf N per area'}, inplace = True)\n",
    "sPlot.rename(columns = {'LeafNPratio_CWM':'Leaf N P ratio'}, inplace = True)\n",
    "sPlot.rename(columns = {'Leaf_delta_15N_CWM':'Leaf delta15N'}, inplace = True)\n",
    "sPlot.rename(columns = {'Leaffreshmass_CWM':'Leaf fresh mass'}, inplace = True)\n",
    "sPlot.rename(columns = {'Seed_num_rep_unit_CWM':'Seeds per rep. unit'}, inplace = True)\n",
    "sPlot.rename(columns = {'Stem_cond_dens_CWM':'Stem conduit density'}, inplace = True)\n",
    "sPlot.rename(columns = {'Disp_unit_leng_CWM':'Dispersal unit length'}, inplace = True)\n",
    "sPlot.rename(columns = {'Wood_vessel_length_CWM':'Conduit element length'}, inplace = True)\n",
    "sPlot.rename(columns = {'PlantHeight_CWM':'Plant Height'}, inplace = True)\n",
    "sPlot.rename(columns = {'LeafArea_CWM':'Leaf Area'}, inplace = True)\n",
    "sPlot.rename(columns = {'SLA_CWM':'SLA'}, inplace = True)"
   ]
  },
  {
   "cell_type": "markdown",
   "id": "eaca0c5f",
   "metadata": {},
   "source": [
    "Replace infinite values with ```NaN```"
   ]
  },
  {
   "cell_type": "code",
   "execution_count": 12,
   "id": "1b00c075",
   "metadata": {},
   "outputs": [],
   "source": [
    "sPlot = sPlot.replace(-np.inf, np.nan)\n",
    "sPlot = sPlot.replace(np.inf, np.nan)"
   ]
  },
  {
   "cell_type": "code",
   "execution_count": 13,
   "id": "88e89fc4",
   "metadata": {},
   "outputs": [
    {
     "data": {
      "text/html": [
       "<div>\n",
       "<style scoped>\n",
       "    .dataframe tbody tr th:only-of-type {\n",
       "        vertical-align: middle;\n",
       "    }\n",
       "\n",
       "    .dataframe tbody tr th {\n",
       "        vertical-align: top;\n",
       "    }\n",
       "\n",
       "    .dataframe thead th {\n",
       "        text-align: right;\n",
       "    }\n",
       "</style>\n",
       "<table border=\"1\" class=\"dataframe\">\n",
       "  <thead>\n",
       "    <tr style=\"text-align: right;\">\n",
       "      <th></th>\n",
       "      <th>PlotObservationID</th>\n",
       "      <th>TraitCoverage_cover</th>\n",
       "      <th>Species_richness</th>\n",
       "      <th>TraitCoverage_pa</th>\n",
       "      <th>Leaf Area</th>\n",
       "      <th>SSD</th>\n",
       "      <th>SLA</th>\n",
       "      <th>Leaf C</th>\n",
       "      <th>Leaf N per mass</th>\n",
       "      <th>Leaf P</th>\n",
       "      <th>...</th>\n",
       "      <th>Height_shrubs_lowest</th>\n",
       "      <th>Height_herbs_average</th>\n",
       "      <th>Height_herbs_lowest</th>\n",
       "      <th>Height_herbs_highest</th>\n",
       "      <th>SoilClim_PC1</th>\n",
       "      <th>SoilClim_PC2</th>\n",
       "      <th>Resample_1</th>\n",
       "      <th>Resample_2</th>\n",
       "      <th>Resample_3</th>\n",
       "      <th>Resample_1_consensus</th>\n",
       "    </tr>\n",
       "  </thead>\n",
       "  <tbody>\n",
       "    <tr>\n",
       "      <th>0</th>\n",
       "      <td>16</td>\n",
       "      <td>0.277778</td>\n",
       "      <td>3</td>\n",
       "      <td>0.333333</td>\n",
       "      <td>3.678311</td>\n",
       "      <td>-1.047293</td>\n",
       "      <td>2.890748</td>\n",
       "      <td>6.128157</td>\n",
       "      <td>2.873263</td>\n",
       "      <td>1.114036</td>\n",
       "      <td>...</td>\n",
       "      <td>NaN</td>\n",
       "      <td>NaN</td>\n",
       "      <td>NaN</td>\n",
       "      <td>NaN</td>\n",
       "      <td>-3.66</td>\n",
       "      <td>0.546</td>\n",
       "      <td>True</td>\n",
       "      <td>False</td>\n",
       "      <td>False</td>\n",
       "      <td>True</td>\n",
       "    </tr>\n",
       "    <tr>\n",
       "      <th>1</th>\n",
       "      <td>17</td>\n",
       "      <td>0.038462</td>\n",
       "      <td>2</td>\n",
       "      <td>0.500000</td>\n",
       "      <td>3.678311</td>\n",
       "      <td>-1.047293</td>\n",
       "      <td>2.890748</td>\n",
       "      <td>6.128157</td>\n",
       "      <td>2.873263</td>\n",
       "      <td>1.114036</td>\n",
       "      <td>...</td>\n",
       "      <td>NaN</td>\n",
       "      <td>NaN</td>\n",
       "      <td>NaN</td>\n",
       "      <td>NaN</td>\n",
       "      <td>-3.66</td>\n",
       "      <td>0.546</td>\n",
       "      <td>True</td>\n",
       "      <td>False</td>\n",
       "      <td>False</td>\n",
       "      <td>True</td>\n",
       "    </tr>\n",
       "    <tr>\n",
       "      <th>2</th>\n",
       "      <td>18</td>\n",
       "      <td>0.047619</td>\n",
       "      <td>4</td>\n",
       "      <td>0.250000</td>\n",
       "      <td>3.678311</td>\n",
       "      <td>-1.047293</td>\n",
       "      <td>2.890748</td>\n",
       "      <td>6.128157</td>\n",
       "      <td>2.873263</td>\n",
       "      <td>1.114036</td>\n",
       "      <td>...</td>\n",
       "      <td>NaN</td>\n",
       "      <td>NaN</td>\n",
       "      <td>NaN</td>\n",
       "      <td>NaN</td>\n",
       "      <td>-3.66</td>\n",
       "      <td>0.546</td>\n",
       "      <td>False</td>\n",
       "      <td>False</td>\n",
       "      <td>True</td>\n",
       "      <td>False</td>\n",
       "    </tr>\n",
       "    <tr>\n",
       "      <th>3</th>\n",
       "      <td>20</td>\n",
       "      <td>0.666667</td>\n",
       "      <td>3</td>\n",
       "      <td>0.333333</td>\n",
       "      <td>3.686063</td>\n",
       "      <td>-0.907135</td>\n",
       "      <td>2.903715</td>\n",
       "      <td>6.136791</td>\n",
       "      <td>2.929729</td>\n",
       "      <td>0.739181</td>\n",
       "      <td>...</td>\n",
       "      <td>NaN</td>\n",
       "      <td>NaN</td>\n",
       "      <td>NaN</td>\n",
       "      <td>NaN</td>\n",
       "      <td>-3.66</td>\n",
       "      <td>0.546</td>\n",
       "      <td>False</td>\n",
       "      <td>True</td>\n",
       "      <td>False</td>\n",
       "      <td>False</td>\n",
       "    </tr>\n",
       "    <tr>\n",
       "      <th>4</th>\n",
       "      <td>22</td>\n",
       "      <td>0.538462</td>\n",
       "      <td>7</td>\n",
       "      <td>0.571429</td>\n",
       "      <td>3.899842</td>\n",
       "      <td>-0.900514</td>\n",
       "      <td>2.917708</td>\n",
       "      <td>6.131968</td>\n",
       "      <td>2.955072</td>\n",
       "      <td>0.733698</td>\n",
       "      <td>...</td>\n",
       "      <td>NaN</td>\n",
       "      <td>NaN</td>\n",
       "      <td>NaN</td>\n",
       "      <td>NaN</td>\n",
       "      <td>-3.66</td>\n",
       "      <td>0.546</td>\n",
       "      <td>True</td>\n",
       "      <td>False</td>\n",
       "      <td>False</td>\n",
       "      <td>True</td>\n",
       "    </tr>\n",
       "  </tbody>\n",
       "</table>\n",
       "<p>5 rows × 86 columns</p>\n",
       "</div>"
      ],
      "text/plain": [
       "   PlotObservationID  TraitCoverage_cover  Species_richness  TraitCoverage_pa  \\\n",
       "0                 16             0.277778                 3          0.333333   \n",
       "1                 17             0.038462                 2          0.500000   \n",
       "2                 18             0.047619                 4          0.250000   \n",
       "3                 20             0.666667                 3          0.333333   \n",
       "4                 22             0.538462                 7          0.571429   \n",
       "\n",
       "   Leaf Area       SSD       SLA    Leaf C  Leaf N per mass    Leaf P  ...  \\\n",
       "0   3.678311 -1.047293  2.890748  6.128157         2.873263  1.114036  ...   \n",
       "1   3.678311 -1.047293  2.890748  6.128157         2.873263  1.114036  ...   \n",
       "2   3.678311 -1.047293  2.890748  6.128157         2.873263  1.114036  ...   \n",
       "3   3.686063 -0.907135  2.903715  6.136791         2.929729  0.739181  ...   \n",
       "4   3.899842 -0.900514  2.917708  6.131968         2.955072  0.733698  ...   \n",
       "\n",
       "   Height_shrubs_lowest  Height_herbs_average  Height_herbs_lowest  \\\n",
       "0                   NaN                   NaN                  NaN   \n",
       "1                   NaN                   NaN                  NaN   \n",
       "2                   NaN                   NaN                  NaN   \n",
       "3                   NaN                   NaN                  NaN   \n",
       "4                   NaN                   NaN                  NaN   \n",
       "\n",
       "   Height_herbs_highest  SoilClim_PC1  SoilClim_PC2  Resample_1  Resample_2  \\\n",
       "0                   NaN         -3.66         0.546        True       False   \n",
       "1                   NaN         -3.66         0.546        True       False   \n",
       "2                   NaN         -3.66         0.546       False       False   \n",
       "3                   NaN         -3.66         0.546       False        True   \n",
       "4                   NaN         -3.66         0.546        True       False   \n",
       "\n",
       "   Resample_3  Resample_1_consensus  \n",
       "0       False                  True  \n",
       "1       False                  True  \n",
       "2        True                 False  \n",
       "3       False                 False  \n",
       "4       False                  True  \n",
       "\n",
       "[5 rows x 86 columns]"
      ]
     },
     "execution_count": 13,
     "metadata": {},
     "output_type": "execute_result"
    }
   ],
   "source": [
    "sPlot.head()"
   ]
  },
  {
   "cell_type": "markdown",
   "id": "cedce9a9",
   "metadata": {},
   "source": [
    "Save this dataframe as ```csv```."
   ]
  },
  {
   "cell_type": "code",
   "execution_count": 12,
   "id": "eab8faf7",
   "metadata": {},
   "outputs": [],
   "source": [
    "sPlot.to_csv(\"sPlotOpen/cwm_loc.csv\", index=False)"
   ]
  },
  {
   "cell_type": "markdown",
   "id": "9f0360fd",
   "metadata": {},
   "source": [
    "## Plot density"
   ]
  },
  {
   "cell_type": "code",
   "execution_count": 16,
   "id": "e2fa79fb",
   "metadata": {},
   "outputs": [],
   "source": [
    "def gridmap(long, lat, label, projection, colorbar=True):\n",
    "    \n",
    "    plt.rcParams.update({'font.size': 15})\n",
    "\n",
    "    Z, xedges, yedges = np.histogram2d(np.array(long,dtype=float),\n",
    "                                   np.array(lat),bins = [181, 91])\n",
    "\n",
    "    #https://stackoverflow.com/questions/67801227/color-a-2d-histogram-not-by-density-but-by-the-mean-of-a-third-column\n",
    "    #https://medium.com/analytics-vidhya/custom-strava-heatmap-231267dcd084\n",
    "    \n",
    "    #let function know what projection provided data is in:\n",
    "    data_crs = ccrs.PlateCarree()\n",
    "    \n",
    "    #for colorbar\n",
    "    cmap = plt.get_cmap('cool')\n",
    "    im_ratio = Z.shape[0]/Z.shape[1]\n",
    "\n",
    "    #plot map\n",
    "    #create base plot of a world map\n",
    "    ax = fig.add_subplot(1, 1, 1, projection=projection) # I used the PlateCarree projection from cartopy\n",
    "    \n",
    "    # set figure to map global extent (-180,180,-90,90)\n",
    "    ax.set_global()\n",
    "    \n",
    "    #add coastlines\n",
    "    ax.coastlines(resolution='110m', color='orange', linewidth=1.3)\n",
    "    \n",
    "    #add grid with values\n",
    "    im = ax.pcolormesh(xedges, yedges, Z.T, cmap=\"cool\", norm=LogNorm(), transform=data_crs, vmax = 400000)\n",
    "    \n",
    "    #add color bar\n",
    "    if colorbar==True:\n",
    "        fig.colorbar(im,fraction=0.046*im_ratio, pad=0.04, shrink=0.3, location=\"left\", label=label)\n",
    "\n"
   ]
  },
  {
   "cell_type": "markdown",
   "id": "cca0044f",
   "metadata": {},
   "source": [
    "Apply the ```gridmap``` function to plot a 2D histogramm of the sPlotOpen plots and save output as ```.pdf```. You can also experiment with other projections. See https://scitools.org.uk/cartopy/docs/v0.15/crs/projections.html for inspiration."
   ]
  },
  {
   "cell_type": "code",
   "execution_count": 17,
   "id": "75d74a76",
   "metadata": {},
   "outputs": [
    {
     "name": "stderr",
     "output_type": "stream",
     "text": [
      "/net/home/swolf/.conda/envs/cartopy/lib/python3.8/site-packages/cartopy/mpl/geoaxes.py:1797: MatplotlibDeprecationWarning: Passing parameters norm and vmin/vmax simultaneously is deprecated since 3.3 and will become an error two minor releases later. Please pass vmin/vmax directly to the norm when creating it.\n",
      "  result = matplotlib.axes.Axes.pcolormesh(self, *args, **kwargs)\n"
     ]
    },
    {
     "data": {
      "image/png": "[encoded data removed]",
      "text/plain": [
       "<Figure size 864x864 with 2 Axes>"
      ]
     },
     "metadata": {
      "needs_background": "light"
     },
     "output_type": "display_data"
    }
   ],
   "source": [
    "fig = plt.figure(figsize=(12, 12))\n",
    "gridmap(sPlot['Longitude'], sPlot['Latitude'], \"Number of sPlotOpen Plots\", projection = ccrs.Robinson())\n",
    "plt.savefig('../Figures/sPlot_density_Robinson_all.pdf', bbox_inches='tight')"
   ]
  }
 ],
 "metadata": {
  "kernelspec": {
   "display_name": "Python 3 (ipykernel)",
   "language": "python",
   "name": "python3"
  },
  "language_info": {
   "codemirror_mode": {
    "name": "ipython",
    "version": 3
   },
   "file_extension": ".py",
   "mimetype": "text/x-python",
   "name": "python",
   "nbconvert_exporter": "python",
   "pygments_lexer": "ipython3",
   "version": "3.8.11"
  }
 },
 "nbformat": 4,
 "nbformat_minor": 5
}
