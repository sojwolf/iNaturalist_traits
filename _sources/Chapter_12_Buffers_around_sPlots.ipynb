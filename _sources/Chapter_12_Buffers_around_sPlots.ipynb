{
 "cells": [
  {
   "cell_type": "markdown",
   "id": "16572c3d",
   "metadata": {},
   "source": [
    "# Buffers around sPlots"
   ]
  },
  {
   "cell_type": "markdown",
   "id": "5d5e75e3",
   "metadata": {},
   "source": [
    "For the alternative approach of using a buffer around each sPlotOpen vegetation plot, we aggregate all iNaturalist observations around each plot individually within a certain radius, or buffer, and calculate the mean trait measurement inside the buffer. "
   ]
  },
  {
   "cell_type": "code",
   "execution_count": null,
   "id": "4f3af83d",
   "metadata": {},
   "outputs": [],
   "source": [
    "import geopandas as gpd\n",
    "import pandas as pd\n",
    "import os\n",
    "from csv import writer "
   ]
  },
  {
   "cell_type": "markdown",
   "id": "b9cbd170",
   "metadata": {},
   "source": [
    "## Load and project data"
   ]
  },
  {
   "cell_type": "code",
   "execution_count": null,
   "id": "ee44b029",
   "metadata": {},
   "outputs": [],
   "source": [
    "iNat = pd.read_csv(\"iNat_TRY_log.csv\")"
   ]
  },
  {
   "cell_type": "markdown",
   "id": "eba56b2f",
   "metadata": {},
   "source": [
    "Covert into geopandas dataframes"
   ]
  },
  {
   "cell_type": "code",
   "execution_count": null,
   "id": "3908d13c",
   "metadata": {},
   "outputs": [],
   "source": [
    "geo_iNat = gpd.GeoDataFrame( iNat.iloc[:,:], geometry=gpd.points_from_xy(iNat.decimalLongitude, iNat.decimalLatitude), \n",
    "                            crs='epsg:4326')"
   ]
  },
  {
   "cell_type": "markdown",
   "id": "cff24b52",
   "metadata": {},
   "source": [
    "To obtain more equal area buffers, the latitudinal/longitudinal data is projected into ‘world sinusoidal projection’ (ESRI:54008).\n",
    "\n",
    "See: https://gis.stackexchange.com/questions/383014/how-to-use-geopandas-buffer-function-to-get-buffer-zones-in-kilometers\n"
   ]
  },
  {
   "cell_type": "code",
   "execution_count": null,
   "id": "2c2c689c",
   "metadata": {},
   "outputs": [],
   "source": [
    "geo_iNat = geo_iNat.to_crs(\"ESRI:54008\")"
   ]
  },
  {
   "cell_type": "markdown",
   "id": "9667f9df",
   "metadata": {},
   "source": [
    "## Calculate iNaturalist values within buffer for a range of buffer sizes"
   ]
  },
  {
   "cell_type": "markdown",
   "id": "be05a210",
   "metadata": {},
   "source": [
    "The iNaturalist observations within each buffer are aggregated and the average trait values calculated. \n",
    "\n",
    "- create bounding box for each plot  \n",
    "- then use r-tree to aggregate iNat observations\n",
    "\n",
    "\n",
    "See: https://geoffboeing.com/2016/10/r-tree-spatial-index-python/"
   ]
  },
  {
   "cell_type": "code",
   "execution_count": null,
   "id": "7618a1b2",
   "metadata": {},
   "outputs": [],
   "source": [
    "# index iNaturalist\n",
    "spatial_index = geo_iNat.sindex\n"
   ]
  },
  {
   "cell_type": "code",
   "execution_count": null,
   "id": "1efadace",
   "metadata": {},
   "outputs": [],
   "source": [
    "# buffer size in meters\n",
    "# for large buffersizes the run-time is substantial (days)\n",
    "\n",
    "buffer_sizes = [1000,2000,4000,8000,16000,32000,64000,128000,256000]\n",
    "\n",
    "for i in buffer_sizes:\n",
    "    # directly update the point geometry with a polygon geometry for each sPlot\n",
    "    # unit is same as lat/long\n",
    "    # buffer 1 corresponds to 1 meter\n",
    "    \n",
    "    # load sPlot data, convert to geopandas dataframe, and reproject\n",
    "    sPlot = pd.read_csv(\"sPlotOpen/cwm_loc.csv\")\n",
    "    geo_sPlot = gpd.GeoDataFrame(sPlot, geometry=gpd.points_from_xy(sPlot.Longitude, sPlot.Latitude), crs='epsg:4326')\n",
    "    geo_sPlot = geo_sPlot.to_crs(\"ESRI:54008\")\n",
    "    geo_sPlot['geometry'] = geo_sPlot.geometry.buffer(i)\n",
    "    \n",
    "    # sPlot id\n",
    "    \n",
    "    filename = \"Buffer_Rerun/all_buffer_means_\" + str(i) + \".csv\"\n",
    "    \n",
    "    # define output csv headers:\n",
    "\n",
    "    column_names_iNat = iNat.columns[6:24]\n",
    "    ids = pd.Index([\"PlotObservationID\"])\n",
    "    obs_num = pd.Index([\"NumberiNatObservations\"])\n",
    "    column_names = ids.append(column_names_iNat)\n",
    "    column_names = obs_num.append(column_names)\n",
    "    sPlot_buffers_means = pd.DataFrame(columns=column_names)\n",
    "    sPlot_buffers_means.to_csv(filename,index=False)\n",
    "\n",
    "\n",
    "    # for each sPlot, find matches in buffer and calculate iNat mean:\n",
    "\n",
    "    for index, row in geo_sPlot.iterrows():\n",
    "    \n",
    "        # get intersection    \n",
    "        geometry = row[\"geometry\"]\n",
    "    \n",
    "        possible_matches_index = list(spatial_index.intersection(geometry.bounds))\n",
    "        possible_matches = geo_iNat.iloc[possible_matches_index]\n",
    "\n",
    "        precise_matches = possible_matches[possible_matches.intersects(geometry)]\n",
    "\n",
    "        # calculate average values for each trait of iNaturalist observations inside buffer zone \n",
    "        \n",
    "        means = precise_matches.mean()\n",
    "        means['PlotObservationID'] = row['PlotObservationID']\n",
    "        \n",
    "        sPlot_buffers_means = pd.DataFrame(columns=column_names)\n",
    "        sPlot_buffers_means = sPlot_buffers_means.append(means, ignore_index=True)\n",
    "        sPlot_buffers_means = sPlot_buffers_means.astype(str) \n",
    "        sPlot_buffers_means['NumberiNatObservations'] = str(len(precise_matches))\n",
    "    \n",
    "        # write to file line by line\n",
    "        sPlot_buffers_means.to_csv(filename,mode='a',index=False,header=False)\n",
    "\n",
    "\n",
    "    \n",
    "    "
   ]
  }
 ],
 "metadata": {
  "kernelspec": {
   "display_name": "Python 3 (ipykernel)",
   "language": "python",
   "name": "python3"
  },
  "language_info": {
   "codemirror_mode": {
    "name": "ipython",
    "version": 3
   },
   "file_extension": ".py",
   "mimetype": "text/x-python",
   "name": "python",
   "nbconvert_exporter": "python",
   "pygments_lexer": "ipython3",
   "version": "3.8.11"
  }
 },
 "nbformat": 4,
 "nbformat_minor": 5
}
